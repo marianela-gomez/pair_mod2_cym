{
 "cells": [
  {
   "cell_type": "code",
   "execution_count": 1,
   "metadata": {},
   "outputs": [],
   "source": [
    "import mysql.connector\n",
    "from mysql.connector import errorcode\n",
    "import pandas as pd\n"
   ]
  },
  {
   "cell_type": "code",
   "execution_count": 2,
   "metadata": {},
   "outputs": [],
   "source": [
    "# Conexión entre Python y MySQL.\n",
    "try:\n",
    "  cnx = mysql.connector.connect(user='root', password='AlumnaAdalab',\n",
    "                              host='127.0.0.1',\n",
    "                              database='northwind')\n",
    "# en caso de que no lo consigas por que hay algún error entonces ...\n",
    "except mysql.connector.Error as err:\n",
    "  # si es un error con la contraseña devuelveme un mensaje de acceso denegado ya que tenemos problemas con la contraseña\n",
    "  if err.errno == errorcode.ER_ACCESS_DENIED_ERROR:\n",
    "    print(\"Something is wrong with your user name or password\")\n",
    "  \n",
    "  # si el error no tiene que ver con la contraseña, puede ser porque la base de datos no exista, devuelveme un mensaje de que la base de datos no existe\n",
    "  elif err.errno == errorcode.ER_BAD_DB_ERROR:\n",
    "    print(\"Database does not exist\")\n",
    "  \n",
    "  # si no es por ninguno de los errores anteriores, printeame cual es el error que estoy teniendo en mi conexión\n",
    "  else:\n",
    "    print(err)"
   ]
  },
  {
   "cell_type": "markdown",
   "metadata": {},
   "source": [
    "\n",
    "3. Usando \"information_schema\" en la conexión a base de datos, extraer los nombres de las columnas de la tabla \"customers\" de la BBDD \"northwind\""
   ]
  },
  {
   "cell_type": "code",
   "execution_count": null,
   "metadata": {},
   "outputs": [],
   "source": [
    "query_info = \"USE information_schema\" #Sólo se pueden ejecutar las queries de 1 en 1 \n"
   ]
  },
  {
   "cell_type": "code",
   "execution_count": 8,
   "metadata": {},
   "outputs": [],
   "source": [
    "my_cursor = cnx.cursor()\n",
    "\n",
    "my_cursor.execute(query_info)"
   ]
  },
  {
   "cell_type": "code",
   "execution_count": null,
   "metadata": {},
   "outputs": [],
   "source": [
    "query_get_info = '''SELECT COLUMN_NAME \n",
    "                FROM COLUMNS WHERE TABLE_NAME = \"customers\" and table_schema = \"northwind\"'''   #OJO con las comillas, si son simples fuera, tienen que ser dobles dentro."
   ]
  },
  {
   "cell_type": "code",
   "execution_count": 10,
   "metadata": {},
   "outputs": [
    {
     "data": {
      "text/plain": [
       "[('CustomerID',),\n",
       " ('CompanyName',),\n",
       " ('ContactName',),\n",
       " ('ContactTitle',),\n",
       " ('Address',),\n",
       " ('City',),\n",
       " ('Region',),\n",
       " ('PostalCode',),\n",
       " ('Country',),\n",
       " ('Phone',),\n",
       " ('Fax',)]"
      ]
     },
     "execution_count": 10,
     "metadata": {},
     "output_type": "execute_result"
    }
   ],
   "source": [
    "my_cursor.execute(query_get_info)\n",
    "\n",
    "my_cursor.fetchall()"
   ]
  },
  {
   "cell_type": "markdown",
   "metadata": {},
   "source": [
    "4. Seleccionar todo de la tabla \"customers\" donde \"city\" sea \"London\" o \"Seattle\". Almacenar los resultados en una variable."
   ]
  },
  {
   "cell_type": "code",
   "execution_count": 25,
   "metadata": {},
   "outputs": [],
   "source": [
    "query_de_la_mierda = \"USE northwind\""
   ]
  },
  {
   "cell_type": "code",
   "execution_count": 26,
   "metadata": {},
   "outputs": [],
   "source": [
    "my_cursor.execute(query_de_la_mierda)"
   ]
  },
  {
   "cell_type": "code",
   "execution_count": 27,
   "metadata": {},
   "outputs": [],
   "source": [
    "query_ej_4 = '''SELECT *\n",
    "                FROM customers WHERE City = \"London\" OR City = \"Seattle\"'''"
   ]
  },
  {
   "cell_type": "code",
   "execution_count": 28,
   "metadata": {},
   "outputs": [],
   "source": [
    "my_cursor.execute(query_ej_4)\n",
    "\n",
    "datos_ej_4 = my_cursor.fetchall()"
   ]
  },
  {
   "cell_type": "code",
   "execution_count": 29,
   "metadata": {},
   "outputs": [
    {
     "data": {
      "text/plain": [
       "[('AROUT',\n",
       "  'Around the Horn',\n",
       "  'Thomas Hardy',\n",
       "  'Sales Representative',\n",
       "  '120 Hanover Sq.',\n",
       "  'London',\n",
       "  None,\n",
       "  'WA1 1DP',\n",
       "  'UK',\n",
       "  '(171) 555-7788',\n",
       "  '(171) 555-6750'),\n",
       " ('BSBEV',\n",
       "  \"B's Beverages\",\n",
       "  'Victoria Ashworth',\n",
       "  'Sales Representative',\n",
       "  'Fauntleroy Circus',\n",
       "  'London',\n",
       "  None,\n",
       "  'EC2 5NT',\n",
       "  'UK',\n",
       "  '(171) 555-1212',\n",
       "  None),\n",
       " ('CONSH',\n",
       "  'Consolidated Holdings',\n",
       "  'Elizabeth Brown',\n",
       "  'Sales Representative',\n",
       "  'Berkeley Gardens 12  Brewery',\n",
       "  'London',\n",
       "  None,\n",
       "  'WX1 6LT',\n",
       "  'UK',\n",
       "  '(171) 555-2282',\n",
       "  '(171) 555-9199'),\n",
       " ('EASTC',\n",
       "  'Eastern Connection',\n",
       "  'Ann Devon',\n",
       "  'Sales Agent',\n",
       "  '35 King George',\n",
       "  'London',\n",
       "  None,\n",
       "  'WX3 6FW',\n",
       "  'UK',\n",
       "  '(171) 555-0297',\n",
       "  '(171) 555-3373'),\n",
       " ('NORTS',\n",
       "  'North/South',\n",
       "  'Simon Crowther',\n",
       "  'Sales Associate',\n",
       "  'South House 300 Queensbridge',\n",
       "  'London',\n",
       "  None,\n",
       "  'SW7 1RZ',\n",
       "  'UK',\n",
       "  '(171) 555-7733',\n",
       "  '(171) 555-2530'),\n",
       " ('SEVES',\n",
       "  'Seven Seas Imports',\n",
       "  'Hari Kumar',\n",
       "  'Sales Manager',\n",
       "  '90 Wadhurst Rd.',\n",
       "  'London',\n",
       "  None,\n",
       "  'OX15 4NB',\n",
       "  'UK',\n",
       "  '(171) 555-1717',\n",
       "  '(171) 555-5646'),\n",
       " ('WHITC',\n",
       "  'White Clover Markets',\n",
       "  'Karl Jablonski',\n",
       "  'Owner',\n",
       "  '305 - 14th Ave. S. Suite 3B',\n",
       "  'Seattle',\n",
       "  'WA',\n",
       "  '98128',\n",
       "  'USA',\n",
       "  '(206) 555-4112',\n",
       "  '(206) 555-4115')]"
      ]
     },
     "execution_count": 29,
     "metadata": {},
     "output_type": "execute_result"
    }
   ],
   "source": [
    "datos_ej_4"
   ]
  },
  {
   "cell_type": "markdown",
   "metadata": {},
   "source": [
    "5. Convertir los resultados del ejercicio anterior en un Dataframe (no olvidéis de poner el nombre a las columnas en el orden correcto)."
   ]
  },
  {
   "cell_type": "code",
   "execution_count": 34,
   "metadata": {},
   "outputs": [],
   "source": [
    "df_ej5 = pd.DataFrame(datos_ej_4, columns = ['ID_cliente', 'Empresa', 'Nombre_representante', 'Puesto_representante',\n",
    "                                        'Dirección', 'Ciudad', 'Región', 'Código_postar', 'País', 'Teléfono', 'Fax'])"
   ]
  },
  {
   "cell_type": "code",
   "execution_count": 32,
   "metadata": {},
   "outputs": [
    {
     "data": {
      "text/html": [
       "<div>\n",
       "<style scoped>\n",
       "    .dataframe tbody tr th:only-of-type {\n",
       "        vertical-align: middle;\n",
       "    }\n",
       "\n",
       "    .dataframe tbody tr th {\n",
       "        vertical-align: top;\n",
       "    }\n",
       "\n",
       "    .dataframe thead th {\n",
       "        text-align: right;\n",
       "    }\n",
       "</style>\n",
       "<table border=\"1\" class=\"dataframe\">\n",
       "  <thead>\n",
       "    <tr style=\"text-align: right;\">\n",
       "      <th></th>\n",
       "      <th>ID_cliente</th>\n",
       "      <th>Empresa</th>\n",
       "      <th>Nombre_representante</th>\n",
       "      <th>Puesto_representante</th>\n",
       "      <th>Dirección</th>\n",
       "      <th>Ciudad</th>\n",
       "      <th>Región</th>\n",
       "      <th>Código_postar</th>\n",
       "      <th>País</th>\n",
       "      <th>Teléfono</th>\n",
       "      <th>Fax</th>\n",
       "    </tr>\n",
       "  </thead>\n",
       "  <tbody>\n",
       "    <tr>\n",
       "      <th>0</th>\n",
       "      <td>AROUT</td>\n",
       "      <td>Around the Horn</td>\n",
       "      <td>Thomas Hardy</td>\n",
       "      <td>Sales Representative</td>\n",
       "      <td>120 Hanover Sq.</td>\n",
       "      <td>London</td>\n",
       "      <td>None</td>\n",
       "      <td>WA1 1DP</td>\n",
       "      <td>UK</td>\n",
       "      <td>(171) 555-7788</td>\n",
       "      <td>(171) 555-6750</td>\n",
       "    </tr>\n",
       "    <tr>\n",
       "      <th>1</th>\n",
       "      <td>BSBEV</td>\n",
       "      <td>B's Beverages</td>\n",
       "      <td>Victoria Ashworth</td>\n",
       "      <td>Sales Representative</td>\n",
       "      <td>Fauntleroy Circus</td>\n",
       "      <td>London</td>\n",
       "      <td>None</td>\n",
       "      <td>EC2 5NT</td>\n",
       "      <td>UK</td>\n",
       "      <td>(171) 555-1212</td>\n",
       "      <td>None</td>\n",
       "    </tr>\n",
       "    <tr>\n",
       "      <th>2</th>\n",
       "      <td>CONSH</td>\n",
       "      <td>Consolidated Holdings</td>\n",
       "      <td>Elizabeth Brown</td>\n",
       "      <td>Sales Representative</td>\n",
       "      <td>Berkeley Gardens 12  Brewery</td>\n",
       "      <td>London</td>\n",
       "      <td>None</td>\n",
       "      <td>WX1 6LT</td>\n",
       "      <td>UK</td>\n",
       "      <td>(171) 555-2282</td>\n",
       "      <td>(171) 555-9199</td>\n",
       "    </tr>\n",
       "    <tr>\n",
       "      <th>3</th>\n",
       "      <td>EASTC</td>\n",
       "      <td>Eastern Connection</td>\n",
       "      <td>Ann Devon</td>\n",
       "      <td>Sales Agent</td>\n",
       "      <td>35 King George</td>\n",
       "      <td>London</td>\n",
       "      <td>None</td>\n",
       "      <td>WX3 6FW</td>\n",
       "      <td>UK</td>\n",
       "      <td>(171) 555-0297</td>\n",
       "      <td>(171) 555-3373</td>\n",
       "    </tr>\n",
       "    <tr>\n",
       "      <th>4</th>\n",
       "      <td>NORTS</td>\n",
       "      <td>North/South</td>\n",
       "      <td>Simon Crowther</td>\n",
       "      <td>Sales Associate</td>\n",
       "      <td>South House 300 Queensbridge</td>\n",
       "      <td>London</td>\n",
       "      <td>None</td>\n",
       "      <td>SW7 1RZ</td>\n",
       "      <td>UK</td>\n",
       "      <td>(171) 555-7733</td>\n",
       "      <td>(171) 555-2530</td>\n",
       "    </tr>\n",
       "    <tr>\n",
       "      <th>5</th>\n",
       "      <td>SEVES</td>\n",
       "      <td>Seven Seas Imports</td>\n",
       "      <td>Hari Kumar</td>\n",
       "      <td>Sales Manager</td>\n",
       "      <td>90 Wadhurst Rd.</td>\n",
       "      <td>London</td>\n",
       "      <td>None</td>\n",
       "      <td>OX15 4NB</td>\n",
       "      <td>UK</td>\n",
       "      <td>(171) 555-1717</td>\n",
       "      <td>(171) 555-5646</td>\n",
       "    </tr>\n",
       "    <tr>\n",
       "      <th>6</th>\n",
       "      <td>WHITC</td>\n",
       "      <td>White Clover Markets</td>\n",
       "      <td>Karl Jablonski</td>\n",
       "      <td>Owner</td>\n",
       "      <td>305 - 14th Ave. S. Suite 3B</td>\n",
       "      <td>Seattle</td>\n",
       "      <td>WA</td>\n",
       "      <td>98128</td>\n",
       "      <td>USA</td>\n",
       "      <td>(206) 555-4112</td>\n",
       "      <td>(206) 555-4115</td>\n",
       "    </tr>\n",
       "  </tbody>\n",
       "</table>\n",
       "</div>"
      ],
      "text/plain": [
       "  ID_cliente                Empresa Nombre_representante  \\\n",
       "0      AROUT        Around the Horn         Thomas Hardy   \n",
       "1      BSBEV          B's Beverages    Victoria Ashworth   \n",
       "2      CONSH  Consolidated Holdings      Elizabeth Brown   \n",
       "3      EASTC     Eastern Connection            Ann Devon   \n",
       "4      NORTS            North/South       Simon Crowther   \n",
       "5      SEVES     Seven Seas Imports           Hari Kumar   \n",
       "6      WHITC   White Clover Markets       Karl Jablonski   \n",
       "\n",
       "   Puesto_representante                     Dirección   Ciudad Región  \\\n",
       "0  Sales Representative               120 Hanover Sq.   London   None   \n",
       "1  Sales Representative             Fauntleroy Circus   London   None   \n",
       "2  Sales Representative  Berkeley Gardens 12  Brewery   London   None   \n",
       "3           Sales Agent                35 King George   London   None   \n",
       "4       Sales Associate  South House 300 Queensbridge   London   None   \n",
       "5         Sales Manager               90 Wadhurst Rd.   London   None   \n",
       "6                 Owner   305 - 14th Ave. S. Suite 3B  Seattle     WA   \n",
       "\n",
       "  Código_postar País        Teléfono             Fax  \n",
       "0       WA1 1DP   UK  (171) 555-7788  (171) 555-6750  \n",
       "1       EC2 5NT   UK  (171) 555-1212            None  \n",
       "2       WX1 6LT   UK  (171) 555-2282  (171) 555-9199  \n",
       "3       WX3 6FW   UK  (171) 555-0297  (171) 555-3373  \n",
       "4       SW7 1RZ   UK  (171) 555-7733  (171) 555-2530  \n",
       "5      OX15 4NB   UK  (171) 555-1717  (171) 555-5646  \n",
       "6         98128  USA  (206) 555-4112  (206) 555-4115  "
      ]
     },
     "execution_count": 32,
     "metadata": {},
     "output_type": "execute_result"
    }
   ],
   "source": [
    "df_ej5"
   ]
  },
  {
   "cell_type": "code",
   "execution_count": null,
   "metadata": {},
   "outputs": [],
   "source": [
    "# Cosa que ha pasado Diana para crear el DF más rápido: \n",
    "\n",
    "column_names = [col[0] for col in my_cursor.description] \n",
    "db_results_3 = pd.DataFrame(datos_ej_4,columns=column_names)"
   ]
  },
  {
   "cell_type": "code",
   "execution_count": 35,
   "metadata": {},
   "outputs": [],
   "source": [
    "cnx.close()"
   ]
  }
 ],
 "metadata": {
  "kernelspec": {
   "display_name": "base",
   "language": "python",
   "name": "python3"
  },
  "language_info": {
   "codemirror_mode": {
    "name": "ipython",
    "version": 3
   },
   "file_extension": ".py",
   "mimetype": "text/x-python",
   "name": "python",
   "nbconvert_exporter": "python",
   "pygments_lexer": "ipython3",
   "version": "3.12.7"
  }
 },
 "nbformat": 4,
 "nbformat_minor": 2
}
